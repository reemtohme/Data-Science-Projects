{
 "cells": [
  {
   "cell_type": "markdown",
   "metadata": {
    "slideshow": {
     "slide_type": "slide"
    }
   },
   "source": [
    "## Writing my own k-means clustering algorithm\n",
    "\n",
    "K-means clustering is a simple unsupervised machine-learning method for cluster analysis. The aim of the method is to partition a set of points into k clusters, such that each point is assigned to the nearest cluster. The algorithm iterates through two steps:\n",
    "\n",
    "1. Assign each data point to the cluster with the nearest centroid\n",
    "2. Update the centroids of the clusters given the new assignment\n",
    "\n",
    "The algorithm converges when the assignments no longer change. Since the intial assignment to clusters is largely random, there is no guarantee that the optimum assignment is found. So it is common to run the algorithm multiple times and use different starting conditions."
   ]
  },
  {
   "cell_type": "code",
   "execution_count": 1,
   "metadata": {},
   "outputs": [],
   "source": [
    "# We will first import the modules we need\n",
    "# You are expected to solve the problem set with these modules only\n",
    "# Do not import and use any other ones \n",
    "\n",
    "# You will need the math module to estimate the square root.\n",
    "# To get the square root of num, use math.sqrt(num)\n",
    "import math\n",
    "import csv\n",
    "import random"
   ]
  },
  {
   "cell_type": "markdown",
   "metadata": {},
   "source": [
    "### Function to estimate Euclidean distance between two points\n"
   ]
  },
  {
   "cell_type": "code",
   "execution_count": 2,
   "metadata": {},
   "outputs": [
    {
     "name": "stdout",
     "output_type": "stream",
     "text": [
      "5.0\n"
     ]
    }
   ],
   "source": [
    "def get_distance(x, y):\n",
    "    \"\"\"Estimates the Euclidean distance between two n-dimensional points.\n",
    "    Assumes x and y are lists of numerical values (the point coordinates).\n",
    "    Returns float (the Euclidean distance between x and y).\n",
    "    \"\"\"\n",
    "    \n",
    "    sqrs = [(x[i] - y[i])**2 for i in range(len(x))]\n",
    "    return math.sqrt(sum(sqrs))\n",
    "\n",
    "print(get_distance([0, 3, 0], [4, 0, 0]))\n"
   ]
  },
  {
   "cell_type": "markdown",
   "metadata": {},
   "source": [
    "### Function to estimate the centroid of a collection of points\n"
   ]
  },
  {
   "cell_type": "code",
   "execution_count": 3,
   "metadata": {
    "scrolled": false
   },
   "outputs": [
    {
     "name": "stdout",
     "output_type": "stream",
     "text": [
      "[0.5, 0.5, 0.5]\n"
     ]
    }
   ],
   "source": [
    "test_lst = [[0,0,0], [0,0,1], [0,1,0], [1,0,0], \n",
    "            [0,1,1], [1,0,1], [1,1,0], [1,1,1]]\n",
    "\n",
    "def get_centroid(points):\n",
    "    \"\"\"Estimates the centroid for a collection of n-dimensional points.\n",
    "    Assumes points is a collection of lists of numerical values.\n",
    "    Returns a list of numerical values (the coordinates of the centroid).\n",
    "    \"\"\"\n",
    "    \n",
    "    centroid = []\n",
    "    num_points = len(points)\n",
    "    num_dims = len(points[0])\n",
    "    for dim in range(num_dims):\n",
    "        coord = [i[dim] for i in points]\n",
    "        centroid.append(sum(coord)/num_points)\n",
    "        \n",
    "    return centroid\n",
    "\n",
    "print(get_centroid(test_lst))\n"
   ]
  },
  {
   "cell_type": "markdown",
   "metadata": {},
   "source": [
    "### Function to read data"
   ]
  },
  {
   "cell_type": "code",
   "execution_count": 4,
   "metadata": {},
   "outputs": [
    {
     "name": "stdout",
     "output_type": "stream",
     "text": [
      "[[12669, 9656, 7561, 214, 2674, 1338], [7057, 9810, 9568, 1762, 3293, 1776]]\n"
     ]
    }
   ],
   "source": [
    "def get_data():\n",
    "    \"\"\"Reads the file Wholesale customers data.csv and \n",
    "    returns part of the data as a list of lists.\n",
    "    \"\"\"\n",
    "    \n",
    "    with open('../data/Wholesale customers data.csv') as f:\n",
    "        reader = csv.reader(f)\n",
    "        data = [[int(i) for i in row[2:]] for row in reader if row[0] != 'Channel']\n",
    "    return data\n",
    "\n",
    "data = get_data()\n",
    "print(data[:2])"
   ]
  },
  {
   "cell_type": "markdown",
   "metadata": {},
   "source": [
    "### Function to implement k-means algorithm"
   ]
  },
  {
   "cell_type": "code",
   "execution_count": 5,
   "metadata": {},
   "outputs": [
    {
     "name": "stdout",
     "output_type": "stream",
     "text": [
      "***Cluster 1***\n",
      "Number of customers: 329\n",
      "Centroid: [8249.996960486322, 3800.966565349544, 5248.556231003039, 2571.677811550152, 1755.112462006079, 1137.018237082067]\n",
      "\n",
      "***Cluster 2***\n",
      "Number of customers: 51\n",
      "Centroid: [8027.411764705882, 18375.92156862745, 27342.549019607843, 2014.313725490196, 12314.607843137255, 2233.2549019607845]\n",
      "\n",
      "***Cluster 3***\n",
      "Number of customers: 60\n",
      "Centroid: [35941.4, 6044.45, 6288.616666666667, 6713.966666666666, 1039.6666666666667, 3049.4666666666667]\n",
      "\n"
     ]
    }
   ],
   "source": [
    "#random.seed(1) # Set the seed to replicate exactly, see below\n",
    "\n",
    "def kmeans(points, k):\n",
    "    \"\"\"Clusters data using a naive implementation of the k-means \n",
    "    clustering algorithm. Assumes points is a list of lists \n",
    "    of numerical values (point coordinates) and k is \n",
    "    an integer > 0 specifiying the number of clusters to be used.\n",
    "    Returns the k-means clustering after 100 iterations \n",
    "    and a single initialization as a list of k lists (clusters) \n",
    "    of points and a list of k lists of numerical values \n",
    "    (the coordinates of the cluster centroids.)\n",
    "    \"\"\"\n",
    "    \n",
    "    # Select k random points to use as initial centroids\n",
    "    init = random.sample(points, k)\n",
    "\n",
    "    # Create a list of k lists to contain the points assigned to each cluster.  \n",
    "    clusters = [[] for i in init]\n",
    "    \n",
    "    # Create a list to keep the centroids of the k clusters. \n",
    "    # For now, this list will contain the points from init.\n",
    "    centroids = [i for i in init]\n",
    "    \n",
    "    # Repeat the clustering for 100 iterations.\n",
    "    # The idea is that each new repetition refines the clustering \n",
    "    # because it starts from the centroids of the previous clustering.     \n",
    "    for _ in range(100):\n",
    "        # Create a list of lists for the new clustering\n",
    "        new_clustering = [[] for i in range(k)]\n",
    "        \n",
    "        # Assign each point to the cluster with the closest centroid.\n",
    "        for p in points:\n",
    "            # Start by setting the closest cluster to be the first one\n",
    "            min_dist = get_distance(p, centroids[0])\n",
    "            closest_clust = 0\n",
    "            # Now find the actual closest cluster\n",
    "            for i in range(1, k):\n",
    "                dist = get_distance(p, centroids[i])\n",
    "                if dist < min_dist:\n",
    "                    min_dist = dist\n",
    "                    closest_clust = i                    \n",
    "            # Add the point to the closest cluster\n",
    "            new_clustering[closest_clust].append(p)\n",
    "            \n",
    "        # Now update the clusters and the centroids\n",
    "        clusters = new_clustering\n",
    "        centroids = [get_centroid(i) for i in clusters]\n",
    "    \n",
    "    return clusters, centroids\n",
    "    \n",
    "        \n",
    "clusters, centroids = kmeans(data, 3)\n",
    "for i in range(3):\n",
    "    print('***Cluster ' + str(i+1) + '***')\n",
    "    print('Number of customers:', len(clusters[i]))\n",
    "    print('Centroid:', centroids[i])\n",
    "    print()\n"
   ]
  }
 ],
 "metadata": {
  "kernelspec": {
   "display_name": "base",
   "language": "python",
   "name": "python3"
  },
  "language_info": {
   "codemirror_mode": {
    "name": "ipython",
    "version": 3
   },
   "file_extension": ".py",
   "mimetype": "text/x-python",
   "name": "python",
   "nbconvert_exporter": "python",
   "pygments_lexer": "ipython3",
   "version": "3.12.4"
  }
 },
 "nbformat": 4,
 "nbformat_minor": 2
}
