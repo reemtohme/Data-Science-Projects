{
 "cells": [
  {
   "cell_type": "markdown",
   "metadata": {
    "slideshow": {
     "slide_type": "slide"
    }
   },
   "source": [
    "## Writing my own k-means clustering algorithm"
   ]
  },
  {
   "cell_type": "code",
   "execution_count": 7,
   "metadata": {},
   "outputs": [],
   "source": [
    "import math\n",
    "import csv\n",
    "import random"
   ]
  },
  {
   "cell_type": "markdown",
   "metadata": {},
   "source": [
    "### Function to estimate Euclidean distance between two points\n"
   ]
  },
  {
   "cell_type": "code",
   "execution_count": 8,
   "metadata": {},
   "outputs": [
    {
     "data": {
      "text/plain": [
       "5.0"
      ]
     },
     "execution_count": 8,
     "metadata": {},
     "output_type": "execute_result"
    }
   ],
   "source": [
    "def get_distance(pt1, pt2):\n",
    "    \"\"\" Assumes pt1 and pt2 are lists. \n",
    "    Returns the Euclidean distance between two n-dimensional points.\n",
    "    \"\"\" \n",
    "    # Calculate squared difference between each corresponding pair of coordinates\n",
    "    difference = [(coord1 - coord2)**2 for coord1, coord2 in zip(pt1, pt2)]\n",
    "    \n",
    "    # Return the square root of the sum of squared differences\n",
    "    return math.sqrt(sum(difference))\n",
    "\n",
    "get_distance([0,3,0],[4,0,0])"
   ]
  },
  {
   "cell_type": "markdown",
   "metadata": {},
   "source": [
    "### Function to estimate the centroid of a collection of points\n"
   ]
  },
  {
   "cell_type": "code",
   "execution_count": 9,
   "metadata": {
    "scrolled": false
   },
   "outputs": [
    {
     "data": {
      "text/plain": [
       "[0.5, 0.5, 0.5]"
      ]
     },
     "execution_count": 9,
     "metadata": {},
     "output_type": "execute_result"
    }
   ],
   "source": [
    "test_lst = [[0,0,0], [0,0,1], [0,1,0], [1,0,0], \n",
    "            [0,1,1], [1,0,1], [1,1,0], [1,1,1]]\n",
    "\n",
    "def get_centroid(points_ls):\n",
    "    \"\"\" Assumes points_ls is a list of n-dimensional points, each of which is a list.\n",
    "    Returns an estimate of the centroid, which is a list of n coordinates.\n",
    "    \"\"\"\n",
    "    nb_dimensions = len(points_ls[0])\n",
    "    \n",
    "    sums = [0] * nb_dimensions\n",
    "    for point in points_ls:\n",
    "        for dim in range(nb_dimensions):\n",
    "            sums[dim] += point[dim]\n",
    "            \n",
    "    # Calculate mean of coordinates for each dimension\n",
    "    centroid = [s / len(points_ls) for s in sums]\n",
    "    return centroid\n",
    "\n",
    "get_centroid(test_lst)"
   ]
  },
  {
   "cell_type": "markdown",
   "metadata": {},
   "source": [
    "### Function to read data"
   ]
  },
  {
   "cell_type": "code",
   "execution_count": 10,
   "metadata": {},
   "outputs": [
    {
     "name": "stdout",
     "output_type": "stream",
     "text": [
      "[[12669, 9656, 7561, 214, 2674, 1338], [7057, 9810, 9568, 1762, 3293, 1776]]\n"
     ]
    }
   ],
   "source": [
    "def get_data(file):\n",
    "    \"\"\" Assumes file is a string representing the path to a CSV file.\n",
    "    This function opens and returns a list of the file data \n",
    "    \"\"\"\n",
    "    data_ls = []\n",
    "    file = open(file)\n",
    "    read_file = csv.reader(file)\n",
    "    for row in read_file:\n",
    "        data_ls.append(row[2:])\n",
    "\n",
    "    data_ls = [[int(elem) for elem in row] for row in data_ls[1:]]\n",
    "    return data_ls\n",
    "    \n",
    "file = '../data/Wholesale customers data.csv'\n",
    "data = get_data(file)\n",
    "print(data[:2])\n"
   ]
  },
  {
   "cell_type": "markdown",
   "metadata": {},
   "source": [
    "### Function to implement k-means algorithm"
   ]
  },
  {
   "cell_type": "code",
   "execution_count": 11,
   "metadata": {},
   "outputs": [
    {
     "name": "stdout",
     "output_type": "stream",
     "text": [
      "Number of points: 59\n",
      "Centroid coordinates: [36156.38983050847, 6123.64406779661, 6366.779661016949, 6811.118644067797, 1050.0169491525423, 3090.0508474576272]\n",
      "Number of points: 328\n",
      "Centroid coordinates: [8341.612804878048, 3779.893292682927, 5152.173780487805, 2577.237804878049, 1720.5731707317073, 1136.5426829268292]\n",
      "Number of points: 53\n",
      "Centroid coordinates: [7751.981132075472, 17910.509433962263, 27037.905660377357, 1970.9433962264152, 12104.867924528302, 2185.735849056604]\n"
     ]
    }
   ],
   "source": [
    "\n",
    "def kmeans(points, k):\n",
    "    \"\"\"Clusters a colection of points into k clusters\"\"\"\n",
    "    \n",
    "    # Select k random points to use as initial centroids\n",
    "    init = random.sample(points, k)\n",
    "\n",
    "    # Create a list of k lists to contain the points assigned to each cluster.  \n",
    "    clusters = [[] for i in init]\n",
    "    \n",
    "    # Create a list to keep the centroids of the k clusters. \n",
    "    centroids = [i for i in init]\n",
    "\n",
    "    for _ in range(100):\n",
    "        \n",
    "        # Initialize the clusters for this iteration\n",
    "        clusters = [[] for i in centroids]\n",
    "        for point in points:\n",
    "            # Initialize the minimum distance to the distance between each initial clusters\n",
    "            min_dist = float(\"inf\")\n",
    "            closest_index = None\n",
    "\n",
    "            for i in range(len(centroids)):\n",
    "                dist = get_distance(centroids[i], point)\n",
    "\n",
    "                if dist < min_dist:\n",
    "                    min_dist = dist\n",
    "                    closest_index = i\n",
    "                    \n",
    "    # Update new clusters\n",
    "            clusters[closest_index].append(point)\n",
    "\n",
    "    #Update centroids\n",
    "        for i in range(len(centroids)):\n",
    "            if clusters[i]:\n",
    "                centroids[i] = get_centroid(clusters[i])\n",
    "\n",
    "    # Check whether centroids are updated\n",
    "    return clusters, centroids\n",
    "\n",
    "clusters, centroids = kmeans(data, 3)\n",
    "\n",
    "for i in range(3):\n",
    "    print(f\"Number of points: {len(clusters[i])}\")\n",
    "    print(f\"Centroid coordinates: {centroids[i]}\")"
   ]
  }
 ],
 "metadata": {
  "kernelspec": {
   "display_name": "base",
   "language": "python",
   "name": "python3"
  },
  "language_info": {
   "codemirror_mode": {
    "name": "ipython",
    "version": 3
   },
   "file_extension": ".py",
   "mimetype": "text/x-python",
   "name": "python",
   "nbconvert_exporter": "python",
   "pygments_lexer": "ipython3",
   "version": "3.12.4"
  }
 },
 "nbformat": 4,
 "nbformat_minor": 2
}
