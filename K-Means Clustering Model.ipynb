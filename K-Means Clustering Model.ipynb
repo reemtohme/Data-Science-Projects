{
 "cells": [
  {
   "cell_type": "markdown",
   "metadata": {
    "slideshow": {
     "slide_type": "slide"
    }
   },
   "source": [
    "## Writing my own k-means clustering algorithm"
   ]
  },
  {
   "cell_type": "code",
   "execution_count": 2,
   "metadata": {},
   "outputs": [],
   "source": [
    "import math\n",
    "import csv\n",
    "import random"
   ]
  },
  {
   "cell_type": "markdown",
   "metadata": {},
   "source": [
    "### Function to estimate Euclidean distance between two points\n"
   ]
  },
  {
   "cell_type": "code",
   "execution_count": 3,
   "metadata": {},
   "outputs": [
    {
     "data": {
      "text/plain": [
       "5.0"
      ]
     },
     "execution_count": 3,
     "metadata": {},
     "output_type": "execute_result"
    }
   ],
   "source": [
    "def get_distance(pt1, pt2):\n",
    "    \"\"\" Assumes pt1 and pt2 are lists. \n",
    "    Returns the Euclidean distance between two n-dimensional points.\n",
    "    \"\"\" \n",
    "    # Calculate squared difference between each corresponding pair of coordinates\n",
    "    difference = [(coord1 - coord2)**2 for coord1, coord2 in zip(pt1, pt2)]\n",
    "    \n",
    "    # Return the square root of the sum of squared differences\n",
    "    return math.sqrt(sum(difference))\n",
    "\n",
    "get_distance([0,3,0],[4,0,0])"
   ]
  },
  {
   "cell_type": "markdown",
   "metadata": {},
   "source": [
    "### Function to estimate the centroid of a collection of points\n"
   ]
  },
  {
   "cell_type": "code",
   "execution_count": 4,
   "metadata": {
    "scrolled": false
   },
   "outputs": [
    {
     "data": {
      "text/plain": [
       "[0.5, 0.5, 0.5]"
      ]
     },
     "execution_count": 4,
     "metadata": {},
     "output_type": "execute_result"
    }
   ],
   "source": [
    "test_lst = [[0,0,0], [0,0,1], [0,1,0], [1,0,0], \n",
    "            [0,1,1], [1,0,1], [1,1,0], [1,1,1]]\n",
    "\n",
    "def get_centroid(points_ls):\n",
    "    \"\"\" Assumes points_ls is a list of n-dimensional points, each of which is a list.\n",
    "    Returns an estimate of the centroid, which is a list of n coordinates.\n",
    "    \"\"\"\n",
    "    nb_dimensions = len(points_ls[0])\n",
    "    \n",
    "    sums = [0] * nb_dimensions\n",
    "    for point in points_ls:\n",
    "        for dim in range(nb_dimensions):\n",
    "            sums[dim] += point[dim]\n",
    "            \n",
    "    # Calculate mean of coordinates for each dimension\n",
    "    centroid = [s / len(points_ls) for s in sums]\n",
    "    return centroid\n",
    "\n",
    "get_centroid(test_lst)"
   ]
  },
  {
   "cell_type": "markdown",
   "metadata": {},
   "source": [
    "### Function to read data"
   ]
  },
  {
   "cell_type": "code",
   "execution_count": 5,
   "metadata": {},
   "outputs": [
    {
     "name": "stdout",
     "output_type": "stream",
     "text": [
      "[[12669, 9656, 7561, 214, 2674, 1338], [7057, 9810, 9568, 1762, 3293, 1776]]\n"
     ]
    }
   ],
   "source": [
    "def get_data(file):\n",
    "    \"\"\" Assumes file is a string representing the path to a CSV file.\n",
    "    This function opens and returns a list of the file data \n",
    "    \"\"\"\n",
    "    data_ls = []\n",
    "    file = open(file)\n",
    "    read_file = csv.reader(file)\n",
    "    for row in read_file:\n",
    "        data_ls.append(row[2:])\n",
    "\n",
    "    data_ls = [[int(elem) for elem in row] for row in data_ls[1:]]\n",
    "    return data_ls\n",
    "    \n",
    "file = '../data/Wholesale customers data.csv'\n",
    "data = get_data(file)\n",
    "print(data[:2])\n"
   ]
  },
  {
   "cell_type": "markdown",
   "metadata": {},
   "source": [
    "### Function to implement k-means algorithm"
   ]
  },
  {
   "cell_type": "code",
   "execution_count": null,
   "metadata": {},
   "outputs": [
    {
     "name": "stdout",
     "output_type": "stream",
     "text": [
      "Number of points: 75\n",
      "Centroid coordinates: [32768.013333333336, 4827.68, 5723.1466666666665, 5535.92, 1074.12, 2066.64]\n",
      "Number of points: 337\n",
      "Centroid coordinates: [7390.958456973293, 4439.768545994065, 6292.19584569733, 2495.53412462908, 2238.652818991098, 1158.448071216617]\n",
      "Number of points: 28\n",
      "Centroid coordinates: [11849.17857142857, 24717.10714285714, 33887.71428571428, 3409.3214285714284, 15459.714285714286, 4483.857142857143]\n"
     ]
    }
   ],
   "source": [
    "\n",
    "def kmeans(points, k):\n",
    "    \"\"\"Clusters a colection of points into k clusters\"\"\"\n",
    "    \n",
    "    # Select k random points to use as initial centroids\n",
    "    init = random.sample(points, k)\n",
    "\n",
    "    # Create a list of k lists to contain the points assigned to each cluster.  \n",
    "    clusters = [[] for i in init]\n",
    "    \n",
    "    # Create a list to keep the centroids of the k clusters. \n",
    "    centroids = [i for i in init]\n",
    "\n",
    "    for _ in range(100):\n",
    "        \n",
    "        # Initialize the clusters for this iteration\n",
    "        clusters = [[] for i in centroids]\n",
    "        for point in points:\n",
    "            # Initialize the minimum distance to the distance between each initial clusters\n",
    "            min_dist = float(\"inf\")\n",
    "            closest_index = None\n",
    "\n",
    "            for i in range(len(centroids)):\n",
    "                dist = get_distance(centroids[i], point)\n",
    "\n",
    "                if dist < min_dist:\n",
    "                    min_dist = dist\n",
    "                    closest_index = i\n",
    "                    \n",
    "    # Update new clusters\n",
    "            clusters[closest_index].append(point)\n",
    "\n",
    "    #Update centroids\n",
    "        for i in range(len(centroids)):\n",
    "            if clusters[i]:\n",
    "                centroids[i] = get_centroid(clusters[i])\n",
    "\n",
    "    # Check whether centroids are updated\n",
    "    return clusters, centroids\n",
    "\n",
    "clusters, centroids = kmeans(data, 3)\n",
    "\n",
    "for i in range(3):\n",
    "    print(f\"Number of points: {len(clusters[i])}\")\n",
    "    print(f\"Centroid coordinates: {centroids[i]}\")"
   ]
  }
 ],
 "metadata": {
  "kernelspec": {
   "display_name": "base",
   "language": "python",
   "name": "python3"
  },
  "language_info": {
   "codemirror_mode": {
    "name": "ipython",
    "version": 3
   },
   "file_extension": ".py",
   "mimetype": "text/x-python",
   "name": "python",
   "nbconvert_exporter": "python",
   "pygments_lexer": "ipython3",
   "version": "3.12.4"
  }
 },
 "nbformat": 4,
 "nbformat_minor": 2
}
