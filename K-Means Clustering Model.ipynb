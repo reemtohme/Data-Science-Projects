{
 "cells": [
  {
   "cell_type": "markdown",
   "metadata": {
    "slideshow": {
     "slide_type": "slide"
    }
   },
   "source": [
    "## Writing my own k-means clustering algorithm"
   ]
  },
  {
   "cell_type": "code",
   "execution_count": null,
   "metadata": {},
   "outputs": [],
   "source": [
    "import math\n",
    "import csv\n",
    "import random"
   ]
  },
  {
   "cell_type": "markdown",
   "metadata": {},
   "source": [
    "### Function to estimate Euclidean distance between two points\n"
   ]
  },
  {
   "cell_type": "code",
   "execution_count": 2,
   "metadata": {},
   "outputs": [
    {
     "name": "stdout",
     "output_type": "stream",
     "text": [
      "5.0\n"
     ]
    }
   ],
   "source": [
    "def get_distance(x, y):\n",
    "    \"\"\"Estimates the Euclidean distance between two n-dimensional points.\n",
    "    Assumes x and y are lists of numerical values (the point coordinates).\n",
    "    Returns float (the Euclidean distance between x and y).\n",
    "    \"\"\"\n",
    "    \n",
    "    sqrs = [(x[i] - y[i])**2 for i in range(len(x))]\n",
    "    return math.sqrt(sum(sqrs))\n",
    "\n",
    "print(get_distance([0, 3, 0], [4, 0, 0]))\n"
   ]
  },
  {
   "cell_type": "markdown",
   "metadata": {},
   "source": [
    "### Function to estimate the centroid of a collection of points\n"
   ]
  },
  {
   "cell_type": "code",
   "execution_count": 3,
   "metadata": {
    "scrolled": false
   },
   "outputs": [
    {
     "name": "stdout",
     "output_type": "stream",
     "text": [
      "[0.5, 0.5, 0.5]\n"
     ]
    }
   ],
   "source": [
    "test_lst = [[0,0,0], [0,0,1], [0,1,0], [1,0,0], \n",
    "            [0,1,1], [1,0,1], [1,1,0], [1,1,1]]\n",
    "\n",
    "def get_centroid(points):\n",
    "    \"\"\"Estimates the centroid for a collection of n-dimensional points.\n",
    "    Assumes points is a collection of lists of numerical values.\n",
    "    Returns a list of numerical values (the coordinates of the centroid).\n",
    "    \"\"\"\n",
    "    \n",
    "    centroid = []\n",
    "    num_points = len(points)\n",
    "    num_dims = len(points[0])\n",
    "    for dim in range(num_dims):\n",
    "        coord = [i[dim] for i in points]\n",
    "        centroid.append(sum(coord)/num_points)\n",
    "        \n",
    "    return centroid\n",
    "\n",
    "print(get_centroid(test_lst))\n"
   ]
  },
  {
   "cell_type": "markdown",
   "metadata": {},
   "source": [
    "### Function to read data"
   ]
  },
  {
   "cell_type": "code",
   "execution_count": 4,
   "metadata": {},
   "outputs": [
    {
     "name": "stdout",
     "output_type": "stream",
     "text": [
      "[[12669, 9656, 7561, 214, 2674, 1338], [7057, 9810, 9568, 1762, 3293, 1776]]\n"
     ]
    }
   ],
   "source": [
    "def get_data():\n",
    "    \"\"\"Reads the file Wholesale customers data.csv and \n",
    "    returns part of the data as a list of lists.\n",
    "    \"\"\"\n",
    "    \n",
    "    with open('../data/Wholesale customers data.csv') as f:\n",
    "        reader = csv.reader(f)\n",
    "        data = [[int(i) for i in row[2:]] for row in reader if row[0] != 'Channel']\n",
    "    return data\n",
    "\n",
    "data = get_data()\n",
    "print(data[:2])"
   ]
  },
  {
   "cell_type": "markdown",
   "metadata": {},
   "source": [
    "### Function to implement k-means algorithm"
   ]
  },
  {
   "cell_type": "code",
   "execution_count": 5,
   "metadata": {},
   "outputs": [
    {
     "name": "stdout",
     "output_type": "stream",
     "text": [
      "Number of points: 73\n",
      "Centroid coordinates: [33111.69863013698, 4918.465753424657, 5847.54794520548, 5554.027397260274, 1097.876712328767, 2097.123287671233]\n",
      "Number of points: 50\n",
      "Centroid coordinates: [8723.78, 19220.54, 27604.86, 2724.7, 12277.34, 3195.36]\n",
      "Number of points: 317\n",
      "Centroid coordinates: [7655.482649842272, 3881.0157728706627, 5335.79810725552, 2555.11356466877, 1810.236593059937, 1129.6056782334385]\n"
     ]
    }
   ],
   "source": [
    "\n",
    "def kmeans(points, k):\n",
    "    \"\"\"Clusters a colection of points into k clusters \n",
    "    using a simplified version of the k-means algorithm.\n",
    "    \"\"\"\n",
    "    \n",
    "    # Select k random points to use as initial centroids\n",
    "    init = random.sample(points, k)\n",
    "\n",
    "    # Create a list of k lists to contain the points assigned to each cluster.  \n",
    "    clusters = [[] for i in init]\n",
    "    \n",
    "    # Create a list to keep the centroids of the k clusters. \n",
    "    centroids = [i for i in init]\n",
    "\n",
    "    for _ in range(100):\n",
    "        \n",
    "        # Initialize the clusters for this iteration\n",
    "        clusters = [[] for i in centroids]\n",
    "\n",
    "        # Assign each point to the cluster with the closest centroid. \n",
    "        for point in points:\n",
    "            # Initialize the minimum distance to the distance between each initial clusters\n",
    "            min_dist = float(\"inf\")\n",
    "            closest_index = None\n",
    "\n",
    "            for i in range(len(centroids)):\n",
    "                dist = get_distance(centroids[i], point)\n",
    "\n",
    "                if dist < min_dist:\n",
    "                    min_dist = dist\n",
    "                    closest_index = i\n",
    "                    \n",
    "    # Update new clusters\n",
    "            clusters[closest_index].append(point)\n",
    "\n",
    "    #Update centroids\n",
    "        for i in range(len(centroids)):\n",
    "            if clusters[i]:\n",
    "                centroids[i] = get_centroid(clusters[i])\n",
    "\n",
    "    # Check whether centroids are updated\n",
    "    return clusters, centroids\n",
    "\n",
    "clusters, centroids = kmeans(data, 3)\n",
    "\n",
    "for i in range(3):\n",
    "    print(f\"Number of points: {len(clusters[i])}\")\n",
    "    print(f\"Centroid coordinates: {centroids[i]}\")"
   ]
  }
 ],
 "metadata": {
  "kernelspec": {
   "display_name": "base",
   "language": "python",
   "name": "python3"
  },
  "language_info": {
   "codemirror_mode": {
    "name": "ipython",
    "version": 3
   },
   "file_extension": ".py",
   "mimetype": "text/x-python",
   "name": "python",
   "nbconvert_exporter": "python",
   "pygments_lexer": "ipython3",
   "version": "3.12.4"
  }
 },
 "nbformat": 4,
 "nbformat_minor": 2
}
