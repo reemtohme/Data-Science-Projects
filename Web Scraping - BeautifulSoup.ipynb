{
 "cells": [
  {
   "cell_type": "code",
   "execution_count": 72,
   "metadata": {},
   "outputs": [],
   "source": [
    "import pandas as pd\n",
    "from bs4 import BeautifulSoup\n",
    "import requests\n",
    "import os\n",
    "import json\n",
    "from datetime import datetime"
   ]
  },
  {
   "cell_type": "code",
   "execution_count": 73,
   "metadata": {},
   "outputs": [
    {
     "name": "stdout",
     "output_type": "stream",
     "text": [
      "['Bath', 'Birmingham', 'Bradford', 'Brighton & Hove', 'Bristol', 'Cambridge', 'Canterbury', 'Carlisle', 'Chelmsford', 'Chester', 'Chichester', 'Colchester', 'Coventry', 'Derby', 'Doncaster', 'Durham', 'Ely', 'Exeter', 'Gloucester', 'Hereford', 'Kingston-upon-Hull', 'Lancaster', 'Leeds', 'Leicester', 'Lichfield', 'Lincoln', 'Liverpool', 'London', 'Manchester', 'Milton Keynes', 'Newcastle-upon-Tyne', 'Norwich', 'Nottingham', 'Oxford', 'Peterborough', 'Plymouth', 'Portsmouth', 'Preston', 'Ripon', 'Salford', 'Salisbury', 'Sheffield', 'Southampton', 'Southend-on-Sea', 'St Albans', 'Stoke on Trent', 'Sunderland', 'Truro', 'Wakefield', 'Wells', 'Westminster', 'Winchester', 'Wolverhampton', 'Worcester', 'York', 'Armagh', 'Bangor', 'Belfast', 'Lisburn', 'Londonderry', 'Newry', 'Aberdeen', 'Dundee', 'Dunfermline', 'Edinburgh', 'Glasgow', 'Inverness', 'Perth', 'Stirling', 'Bangor', 'Cardiff', 'Newport', 'St Asaph', 'St Davids', 'Swansea', 'Wrexham']\n"
     ]
    }
   ],
   "source": [
    "# Initialize empty list\n",
    "list = []\n",
    "\n",
    "# Get html content of the webpage\n",
    "web = requests.get(\"https://www.gov.uk/government/publications/list-of-cities/list-of-cities-html\")\n",
    "\n",
    "# Parse content using 'lxml' parser\n",
    "soup = BeautifulSoup(web.content, \"lxml\")\n",
    "\n",
    "# Find the section of the HTML where rewuired UK cities are listed.\n",
    "# First locate the <h3> tag with id='united-kingdom' (indicating the start of the UK cities list).\n",
    "# Then find the next <h3> tag with id='crown-dependencies' (indicating the end of the UK cities list).\n",
    "# Get all <li> elements between these two headers, containing city names.\n",
    "response = soup.find('h3', id = 'united-kingdom').find_next('h3', id = \"crown-dependencies\").find_all_previous('li')\n",
    "\n",
    "# Loop over each element of the found data and add it to initialized list\n",
    "for li in response:\n",
    "    list.append(li.text.replace('*', '').strip())\n",
    "\n",
    "# Slice list and reverse its order\n",
    "city_list = list[:76][::-1]\n",
    "\n",
    "print(city_list)"
   ]
  },
  {
   "cell_type": "code",
   "execution_count": 74,
   "metadata": {},
   "outputs": [],
   "source": [
    "# Call on API key\n",
    "api_key = \"c95b33314e9ad84421bf063c5876cab3\"\n",
    "\n",
    "# Initialize empty dictionary\n",
    "weather_data = {}\n",
    "\n",
    "# Loop over each city to get weather information\n",
    "for city in city_list:\n",
    "    query = 'q='+ city\n",
    "    response = requests.get('http://api.openweathermap.org/data/2.5/weather?'+query+'&APPID='+api_key)\n",
    "    \n",
    "    # Parse the JSON response and store it in 'data' variable\n",
    "    data = response.json()\n",
    "    \n",
    "    # Excluding Bangor, extract weather data for each city\n",
    "    # Replace with None if information is missing\n",
    "    if city != 'Bangor':\n",
    "        temperature = data.get(\"main\", {}).get(\"temp\", None)\n",
    "        wind_speed = data.get(\"wind\", {}).get(\"speed\", None)\n",
    "        rain = data.get(\"rain\", None)\n",
    "        dt = data.get(\"dt\", None)\n",
    "\n",
    "      \n",
    "        # Add the city as a key in the dictionary, with a list of its weather attributes as the value\n",
    "        weather_data[city] = [temperature, wind_speed, rain, dt]\n"
   ]
  },
  {
   "cell_type": "code",
   "execution_count": 75,
   "metadata": {},
   "outputs": [
    {
     "name": "stdout",
     "output_type": "stream",
     "text": [
      "                 Temperature  WindSpeed  Rain  CollectionTime\n",
      "Bath                  284.57       4.00  None    1.730973e+09\n",
      "Birmingham            293.47       2.06  None    1.730972e+09\n",
      "Bradford              280.95       5.66  None    1.730972e+09\n",
      "Brighton & Hove       283.89       2.57  None    1.730972e+09\n",
      "Bristol               287.65       1.34  None    1.730972e+09\n",
      "...                      ...        ...   ...             ...\n",
      "Newport               284.71       2.99  None    1.730973e+09\n",
      "St Asaph              284.59       0.89  None    1.730973e+09\n",
      "St Davids             285.91      10.60  None    1.730973e+09\n",
      "Swansea               285.53       3.58  None    1.730972e+09\n",
      "Wrexham               283.57       5.66  None    1.730973e+09\n",
      "\n",
      "[74 rows x 4 columns]\n"
     ]
    }
   ],
   "source": [
    "# Create a DataFrame from the weather_data dictionary where each key becomes index row label\n",
    "# Each list element (dictionary value) corresponds to a column specified in the \"columns\" argument\n",
    "df = pd.DataFrame.from_dict(weather_data, orient = 'index' , columns = [\"Temperature\", \"WindSpeed\", \"Rain\", \"CollectionTime\"])\n",
    "print(df)"
   ]
  },
  {
   "cell_type": "code",
   "execution_count": 76,
   "metadata": {},
   "outputs": [],
   "source": [
    "# Replace missing values in 'CollectionTime' column with 0\n",
    "df['CollectionTime'] = df['CollectionTime'].fillna(0)\n",
    "\n",
    "# Convert each element of 'CollectionTime' column from Unix timestamp to datetime object\n",
    "df['CollectionTime'] = pd.to_datetime(df['CollectionTime'], origin='unix', unit='s')\n",
    "\n",
    "# Format datetime objects to required string format\n",
    "df['CollectionTime'] = df['CollectionTime'].apply(lambda row: row.strftime(\"%d/%m/%y @ %H:%M:%S\"))\n"
   ]
  },
  {
   "cell_type": "code",
   "execution_count": 77,
   "metadata": {},
   "outputs": [
    {
     "name": "stdout",
     "output_type": "stream",
     "text": [
      "                 Temperature  WindSpeed  Rain       CollectionTime\n",
      "Bath                  284.57       4.00  None  07/11/24 @ 09:43:25\n",
      "Birmingham            293.47       2.06  None  07/11/24 @ 09:41:09\n",
      "Bradford              280.95       5.66  None  07/11/24 @ 09:41:21\n",
      "Brighton & Hove       283.89       2.57  None  07/11/24 @ 09:41:36\n",
      "Bristol               287.65       1.34  None  07/11/24 @ 09:40:23\n",
      "...                      ...        ...   ...                  ...\n",
      "Newport               284.71       2.99  None  07/11/24 @ 09:44:11\n",
      "St Asaph              284.59       0.89  None  07/11/24 @ 09:44:11\n",
      "St Davids             285.91      10.60  None  07/11/24 @ 09:44:11\n",
      "Swansea               285.53       3.58  None  07/11/24 @ 09:40:35\n",
      "Wrexham               283.57       5.66  None  07/11/24 @ 09:42:21\n",
      "\n",
      "[74 rows x 4 columns]\n"
     ]
    }
   ],
   "source": [
    "print(df)\n"
   ]
  },
  {
   "cell_type": "code",
   "execution_count": 78,
   "metadata": {},
   "outputs": [
    {
     "name": "stdout",
     "output_type": "stream",
     "text": [
      "                 Temperature  WindSpeed  Rain       CollectionTime\n",
      "Bath                   11.42       4.00  None  07/11/24 @ 09:43:25\n",
      "Birmingham             20.32       2.06  None  07/11/24 @ 09:41:09\n",
      "Bradford                7.80       5.66  None  07/11/24 @ 09:41:21\n",
      "Brighton & Hove        10.74       2.57  None  07/11/24 @ 09:41:36\n",
      "Bristol                14.50       1.34  None  07/11/24 @ 09:40:23\n",
      "...                      ...        ...   ...                  ...\n",
      "Newport                11.56       2.99  None  07/11/24 @ 09:44:11\n",
      "St Asaph               11.44       0.89  None  07/11/24 @ 09:44:11\n",
      "St Davids              12.76      10.60  None  07/11/24 @ 09:44:11\n",
      "Swansea                12.38       3.58  None  07/11/24 @ 09:40:35\n",
      "Wrexham                10.42       5.66  None  07/11/24 @ 09:42:21\n",
      "\n",
      "[74 rows x 4 columns]\n"
     ]
    }
   ],
   "source": [
    "# Convert elements in 'Temperature' column from Kelvin to Celsius by subtracting 273.15\n",
    "df['Temperature'] = df['Temperature'] - 273.15\n",
    "\n",
    "print(df)"
   ]
  }
 ],
 "metadata": {
  "kernelspec": {
   "display_name": "base",
   "language": "python",
   "name": "python3"
  },
  "language_info": {
   "codemirror_mode": {
    "name": "ipython",
    "version": 3
   },
   "file_extension": ".py",
   "mimetype": "text/x-python",
   "name": "python",
   "nbconvert_exporter": "python",
   "pygments_lexer": "ipython3",
   "version": "3.12.4"
  }
 },
 "nbformat": 4,
 "nbformat_minor": 2
}
