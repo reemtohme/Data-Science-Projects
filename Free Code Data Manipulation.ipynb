{
 "cells": [
  {
   "cell_type": "markdown",
   "metadata": {
    "slideshow": {
     "slide_type": "slide"
    }
   },
   "source": [
    "\n",
    "# Working with data files\n",
    "\n",
    "For this project, I will use data from the file `ca-GrQc.txt`, which you can locate in the data folder in repository. The file contains the co-authorship links for articles in the ArXiv category General Relativity. Each line in the file includes the ids of two authors who have worked together on at least one article. In network analysis parlance, this is known as an \"edge list.\" The data are obtained from the [Stanford Large Network Dataset Collection](https://snap.stanford.edu/data/index.html)"
   ]
  },
  {
   "cell_type": "markdown",
   "metadata": {},
   "source": [
    "Geting all coauthorships in a list of lists\n",
    "\n",
    "Creating a list that contains all edges included in the data file as lists of the two authors' ids, where the ids are saved as integers.\n"
   ]
  },
  {
   "cell_type": "code",
   "execution_count": 1,
   "metadata": {
    "collapsed": true
   },
   "outputs": [
    {
     "name": "stdout",
     "output_type": "stream",
     "text": [
      "[[3466, 937], [3466, 5233], [3466, 8579], [3466, 10310], [3466, 15931], [3466, 17038], [3466, 18720], [3466, 19607], [10310, 1854], [10310, 3466]]\n"
     ]
    }
   ],
   "source": [
    "# Open file and read lines as a list of strings\n",
    "with open('../data/ca-GrQc.txt', 'r') as file:\n",
    "    lines = file.readlines()\n",
    "\n",
    "# Create an empty list\n",
    "a_list = []\n",
    "\n",
    "# Using a for loop, iterate over each elem in lines\n",
    "for elem in lines[4:]:\n",
    "\n",
    "# Create clean authors lists from each elem \n",
    "    authors = elem.strip().split('\\t')\n",
    "\n",
    "# Convert the strings in authors to integer type and add to a_list\n",
    "    a_list.append([int(authors[0]), int(authors[1])])\n",
    "\n",
    "print(a_list[:10])\n"
   ]
  },
  {
   "cell_type": "markdown",
   "metadata": {},
   "source": [
    "### Who are the authors in the data?\n",
    "\n",
    "- Creating a sorted list with the integer ids for all of the unique authors in the dataset.\n",
    "- Using a dictionary comprehension, creating a dictionary in which the keys are the author integer ids and the values are empty lists."
   ]
  },
  {
   "cell_type": "code",
   "execution_count": 2,
   "metadata": {
    "collapsed": true,
    "scrolled": false
   },
   "outputs": [
    {
     "name": "stdout",
     "output_type": "stream",
     "text": [
      "[13, 14, 22, 24, 25, 26, 27, 28, 29, 45]\n",
      "5242\n",
      "{13: [], 14: [], 22: [], 24: [], 25: [], 26: [], 27: [], 28: [], 29: [], 45: []}\n"
     ]
    }
   ],
   "source": [
    "# Use a list comprehension to create a list of edges in a_list\n",
    "in_edge_list = [in_edge for edge in a_list for in_edge in edge]\n",
    "\n",
    "# Convert c_list to a set then convert it to a list again\n",
    "# A set contains unique elements but can't be sliced\n",
    "unique_list = list(set(in_edge_list))\n",
    "\n",
    "print(unique_list[:10])\n",
    "print(len(unique_list))\n",
    "\n",
    "# Use a dictionary comprehension to create a dictionary \n",
    "# where the authors' id is the key and [] is the value\n",
    "dic = {id : [] for id in unique_list}\n",
    "\n",
    "# To confirm, I indexed the first 10 keys\n",
    "test_dic = {id : [] for id in unique_list[:10]}\n",
    "print(test_dic)"
   ]
  },
  {
   "cell_type": "markdown",
   "metadata": {},
   "source": [
    "### Getting each author's coauthors\n",
    "\n",
    "Note: I noticed that the data contain errors. For example, I noticed that the data say that author 13 coauthored with himself/herself, which is meaningless. To get the maximum number of points, my code excludes oneself in one's list of coauthors."
   ]
  },
  {
   "cell_type": "code",
   "execution_count": 3,
   "metadata": {
    "collapsed": true
   },
   "outputs": [
    {
     "name": "stdout",
     "output_type": "stream",
     "text": [
      "[25346, 21508, 773, 12679, 2952, 19081, 20108, 3858, 20243, 7956, 21012, 24726, 11801, 15003, 17692, 20635, 15774, 4511, 18719, 4513, 1186, 6179, 2212, 21281, 22691, 25758, 13096, 15659, 7596, 3372, 6830, 11183, 8879, 15793, 18866, 12851, 2741, 9785, 570, 11196, 19517, 25540, 4164, 4550, 14540, 12365, 18894, 19961, 11472, 12496, 6610, 25043, 4180, 20562, 13142, 14807, 21847, 22618, 14171, 19423, 19170, 22887, 11241, 106, 22891, 11114, 7916, 12781, 19440, 1653, 17655, 23161, 24955, 23293, 1407]\n"
     ]
    }
   ],
   "source": [
    "# Use a for loop to iterate over the edges in a_list\n",
    "for edge in a_list:\n",
    "\n",
    "# If in_edges are different\n",
    "        if edge[0] != edge[1]:\n",
    "\n",
    "# Add the in_edges in a_list to the [] values in dic\n",
    "# and the dictionary is formed\n",
    "                dic[edge[0]].append(edge[1])\n",
    "\n",
    "# Create seperate lists for keys and values in dic\n",
    "key_list = list(dic.keys())\n",
    "values_list = list(dic.values())\n",
    "\n",
    "# Use a list comprehension to create a list of the authors' seperate idens\n",
    "target_list = [ iden for value in values_list[:10] for iden in value]\n",
    "\n",
    "# Convert the list into a set that returns unique elements\n",
    "# then to a list again\n",
    "print(list(set(target_list)))\n"
   ]
  },
  {
   "cell_type": "markdown",
   "metadata": {},
   "source": [
    "### Finding the author who has the most coauthors"
   ]
  },
  {
   "cell_type": "code",
   "execution_count": 4,
   "metadata": {
    "collapsed": true
   },
   "outputs": [
    {
     "name": "stdout",
     "output_type": "stream",
     "text": [
      "81\n",
      "21012\n",
      "Author 21012 has 81 coauthors, the highest number of coauthors.\n"
     ]
    }
   ],
   "source": [
    "\n",
    "#Create a list of the lengths of the values in dic\n",
    "len_list = [len(dic[key]) for key, value in dic.items()]\n",
    "print(max(len_list))\n",
    "\n",
    "# Iterate through the keys in dic\n",
    "for key in dic:\n",
    "# Add the condition that length of value corresponding \n",
    "# to iterable key is equal to the max length in len_list\n",
    "    if len(dic[key]) == max(len_list):\n",
    "        print(key) \n",
    "\n",
    "print('Author 21012 has 81 coauthors, the highest number of coauthors.')"
   ]
  }
 ],
 "metadata": {
  "kernelspec": {
   "display_name": "base",
   "language": "python",
   "name": "python3"
  },
  "language_info": {
   "codemirror_mode": {
    "name": "ipython",
    "version": 3
   },
   "file_extension": ".py",
   "mimetype": "text/x-python",
   "name": "python",
   "nbconvert_exporter": "python",
   "pygments_lexer": "ipython3",
   "version": "3.12.4"
  }
 },
 "nbformat": 4,
 "nbformat_minor": 2
}
