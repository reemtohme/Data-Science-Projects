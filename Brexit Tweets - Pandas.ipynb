{
 "cells": [
  {
   "cell_type": "code",
   "execution_count": 2,
   "metadata": {},
   "outputs": [],
   "source": [
    "# Import pandas library and read csv file as a DataFrame\n",
    "import pandas as pd\n",
    "brexit = pd.read_csv(\"brexit_tweet_count_by_data.csv\")\n",
    "\n",
    "# Create a pivot table of brexit DataFrame\n",
    "pivoted_df = brexit.pivot_table(\n",
    "    values = [\"total_count\"], \n",
    "    index = [\"date\"], \n",
    "    columns = [\"retweet\"],\n",
    "    )\n",
    "\n",
    "# Rename columns in pivoted_df \n",
    "pivoted_df.columns = ['tweets', 'retweets']"
   ]
  },
  {
   "cell_type": "code",
   "execution_count": 3,
   "metadata": {},
   "outputs": [
    {
     "data": {
      "text/plain": [
       "[<matplotlib.lines.Line2D at 0x240d90cca40>]"
      ]
     },
     "execution_count": 3,
     "metadata": {},
     "output_type": "execute_result"
    },
    {
     "data": {
      "image/png": "[encoded data removed]",
      "text/plain": [
       "<Figure size 640x480 with 1 Axes>"
      ]
     },
     "metadata": {},
     "output_type": "display_data"
    }
   ],
   "source": [
    "# Import matplotlib library\n",
    "import matplotlib.pyplot as plt\n",
    "\n",
    "# Plot a graph for each column \n",
    "plt.plot(pivoted_df.index, pivoted_df['tweets'], label = 'tweets', color = \"green\")\n",
    "plt.plot(pivoted_df.index, pivoted_df['retweets'], label = 'retweets', color = \"yellow\")"
   ]
  },
  {
   "cell_type": "code",
   "execution_count": 4,
   "metadata": {},
   "outputs": [],
   "source": [
    "# Create a new column named total that sums the tweet and retweet datapoints\n",
    "pivoted_df ['total'] = pivoted_df ['tweets'] + pivoted_df ['retweets']\n",
    "\n",
    "# Sort values of column 'total' in descending order \n",
    "# and select the top 10 entries\n",
    "ten_most = pivoted_df.sort_values (by = 'total', ascending = False).head(10)\n",
    "\n"
   ]
  },
  {
   "cell_type": "code",
   "execution_count": 13,
   "metadata": {},
   "outputs": [
    {
     "name": "stdout",
     "output_type": "stream",
     "text": [
      "['2016-06-24', '2016-06-25', '2016-06-27', '2016-06-23', '2016-06-26', '2016-11-09', '2016-06-28', '2016-06-22', '2016-06-29', '2016-06-21']\n",
      "These 10 dates are significant because they show that the spike in the brexit-related tweet and retweet counts coincide with the period directly afterwhich the UK voted to leave the EU. They also reveal the public's reaction to the event's occurence and the intensity of their reaction.\n"
     ]
    }
   ],
   "source": [
    "# Create a list of the top 10 index entries in ten_most and print it\n",
    "print(ten_most.index.to_list())\n",
    "\n",
    "print(\"These 10 dates are significant because they show that the spike in the brexit-related tweet and retweet counts coincide with the period directly afterwhich the UK voted to leave the EU. They also reveal the public's reaction to the event's occurence and the intensity of their reaction.\")"
   ]
  },
  {
   "cell_type": "code",
   "execution_count": 6,
   "metadata": {},
   "outputs": [],
   "source": [
    "# Convert index in pivoted_df Dataframe from strings to datetime objects\n",
    "pivoted_df.index = pd.to_datetime(pivoted_df.index)\n",
    "\n",
    "# Create a copy of pivoted_df\n",
    "pivoted_later = pivoted_df.copy()\n",
    "\n",
    "# Replace each datetime object with the corresponding day name\n",
    "pivoted_df.index = pivoted_df.index.day_name()\n"
   ]
  },
  {
   "cell_type": "code",
   "execution_count": 7,
   "metadata": {},
   "outputs": [],
   "source": [
    "# Group pivoted_df by its index and sum each group\n",
    "grouped_df = pivoted_df.groupby(pivoted_df.index).sum()"
   ]
  },
  {
   "cell_type": "code",
   "execution_count": 8,
   "metadata": {},
   "outputs": [],
   "source": [
    "# Sort grouped_df DataFrame by the 'tweets' column in descending order\n",
    "reordered = grouped_df.sort_values (by = 'tweets', ascending = False)"
   ]
  },
  {
   "cell_type": "code",
   "execution_count": 9,
   "metadata": {},
   "outputs": [
    {
     "data": {
      "text/html": [
       "<div>\n",
       "<style scoped>\n",
       "    .dataframe tbody tr th:only-of-type {\n",
       "        vertical-align: middle;\n",
       "    }\n",
       "\n",
       "    .dataframe tbody tr th {\n",
       "        vertical-align: top;\n",
       "    }\n",
       "\n",
       "    .dataframe thead th {\n",
       "        text-align: right;\n",
       "    }\n",
       "</style>\n",
       "<table border=\"1\" class=\"dataframe\">\n",
       "  <thead>\n",
       "    <tr style=\"text-align: right;\">\n",
       "      <th></th>\n",
       "      <th>tweets</th>\n",
       "      <th>retweets</th>\n",
       "      <th>total</th>\n",
       "    </tr>\n",
       "    <tr>\n",
       "      <th>date</th>\n",
       "      <th></th>\n",
       "      <th></th>\n",
       "      <th></th>\n",
       "    </tr>\n",
       "  </thead>\n",
       "  <tbody>\n",
       "    <tr>\n",
       "      <th>Friday</th>\n",
       "      <td>3697677.0</td>\n",
       "      <td>6133772.0</td>\n",
       "      <td>9831449.0</td>\n",
       "    </tr>\n",
       "  </tbody>\n",
       "</table>\n",
       "</div>"
      ],
      "text/plain": [
       "           tweets   retweets      total\n",
       "date                                   \n",
       "Friday  3697677.0  6133772.0  9831449.0"
      ]
     },
     "metadata": {},
     "output_type": "display_data"
    },
    {
     "name": "stdout",
     "output_type": "stream",
     "text": [
      "Friday is the day with the highest average tweet count.\n"
     ]
    }
   ],
   "source": [
    "# Display the first row of 'reordered' DataFrame \n",
    "display(reordered.head(1))\n",
    "\n",
    "print('Friday is the day with the highest average tweet count.')"
   ]
  },
  {
   "cell_type": "code",
   "execution_count": 10,
   "metadata": {},
   "outputs": [],
   "source": [
    "# Sort values in pivoted_later DataFrame by 'total' column in descending order\n",
    "drop_df = pivoted_later.sort_values('total', ascending = False)\n",
    "\n",
    "# Remove top 10 dates in drop_df \n",
    "new_df = drop_df[11:]"
   ]
  },
  {
   "cell_type": "code",
   "execution_count": 11,
   "metadata": {},
   "outputs": [],
   "source": [
    "# Convert index in new_df from strings to datetime objects\n",
    "new_df.index = pd.to_datetime(new_df.index)\n",
    "\n",
    "# Create a copy of new_df\n",
    "new_later = new_df.copy()\n",
    "\n",
    "# Replace each datetime object in new_df with its corresponding day name\n",
    "new_df.index = new_df.index.day_name()\n",
    "\n",
    "# Group new_df by its index and sum each group\n",
    "new_grouped_df = new_df.groupby(new_df.index).sum()\n",
    "\n",
    "# Sort new_grouped_df by 'tweets' column in descending order\n",
    "new_reordered_df = new_grouped_df.sort_values (by = 'tweets', ascending = False)"
   ]
  },
  {
   "cell_type": "code",
   "execution_count": 12,
   "metadata": {},
   "outputs": [
    {
     "data": {
      "text/html": [
       "<div>\n",
       "<style scoped>\n",
       "    .dataframe tbody tr th:only-of-type {\n",
       "        vertical-align: middle;\n",
       "    }\n",
       "\n",
       "    .dataframe tbody tr th {\n",
       "        vertical-align: top;\n",
       "    }\n",
       "\n",
       "    .dataframe thead th {\n",
       "        text-align: right;\n",
       "    }\n",
       "</style>\n",
       "<table border=\"1\" class=\"dataframe\">\n",
       "  <thead>\n",
       "    <tr style=\"text-align: right;\">\n",
       "      <th></th>\n",
       "      <th>tweets</th>\n",
       "      <th>retweets</th>\n",
       "      <th>total</th>\n",
       "    </tr>\n",
       "    <tr>\n",
       "      <th>date</th>\n",
       "      <th></th>\n",
       "      <th></th>\n",
       "      <th></th>\n",
       "    </tr>\n",
       "  </thead>\n",
       "  <tbody>\n",
       "    <tr>\n",
       "      <th>Monday</th>\n",
       "      <td>1843116.0</td>\n",
       "      <td>2625267.0</td>\n",
       "      <td>4468383.0</td>\n",
       "    </tr>\n",
       "  </tbody>\n",
       "</table>\n",
       "</div>"
      ],
      "text/plain": [
       "           tweets   retweets      total\n",
       "date                                   \n",
       "Monday  1843116.0  2625267.0  4468383.0"
      ]
     },
     "metadata": {},
     "output_type": "display_data"
    },
    {
     "name": "stdout",
     "output_type": "stream",
     "text": [
      "Monday is the day with the most tweets after spikes' removal.\n"
     ]
    }
   ],
   "source": [
    "# Display the first row of new_reordered_df\n",
    "display(new_reordered_df.head(1))\n",
    "\n",
    "print(\"Monday is the day with the most tweets after spikes' removal.\")"
   ]
  }
 ],
 "metadata": {
  "kernelspec": {
   "display_name": "base",
   "language": "python",
   "name": "python3"
  },
  "language_info": {
   "codemirror_mode": {
    "name": "ipython",
    "version": 3
   },
   "file_extension": ".py",
   "mimetype": "text/x-python",
   "name": "python",
   "nbconvert_exporter": "python",
   "pygments_lexer": "ipython3",
   "version": "3.12.4"
  }
 },
 "nbformat": 4,
 "nbformat_minor": 2
}
