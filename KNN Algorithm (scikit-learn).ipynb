{
 "cells": [
  {
   "cell_type": "markdown",
   "metadata": {
    "slideshow": {
     "slide_type": "slide"
    }
   },
   "source": [
    "\n",
    "## Writing my own binary classifier evaluation module\n",
    "\n",
    "Classification is the supervised-learning equivalent of clustering. A classifier is used to label an observation as belonging to one of a finite number of categories, or classes. I use labeled training data to build the classifier and then use the classifier to predict the categories that new observations belong to. \n",
    "\n",
    "In this project, I will build my own module for working with and evaluating binary classifiers and write unit tests for it. I will then use the module to evaluate k-nearest neighbor (KNN) classification on social data. I will use the scikit-learn package to run the KNN algorithm.  "
   ]
  },
  {
   "cell_type": "markdown",
   "metadata": {},
   "source": [
    "### Function to split data into training and testing sets\n",
    "\n",
    "Refer to  `class_eval.py` file in Data-Science-Projects repository"
   ]
  },
  {
   "cell_type": "markdown",
   "metadata": {},
   "source": [
    "### Function to estimate values from confusion matrix\n",
    "\n",
    "Refer in  `class_eval.py` file to a function called `confusion_matrix()`\n"
   ]
  },
  {
   "cell_type": "markdown",
   "metadata": {},
   "source": [
    "### Function to estimate evaluation metrics\n",
    "\n",
    "Refer in the file `class_eval.py` to the functions: `accuracy()`, `sensitivity()`, `specificity()`, `pos_pred_val()`, `neg_pred_val()`"
   ]
  },
  {
   "cell_type": "markdown",
   "metadata": {},
   "source": [
    "### Unit tests for the classification evaluation module\n",
    "\n",
    "Refer to `tests.py` file"
   ]
  },
  {
   "cell_type": "markdown",
   "metadata": {},
   "source": [
    "---\n",
    "## Evaluating your module using KNN on real data"
   ]
  },
  {
   "cell_type": "code",
   "execution_count": 1,
   "metadata": {},
   "outputs": [
    {
     "name": "stdout",
     "output_type": "stream",
     "text": [
      "Accuracy: 0.9080459770114943\n",
      "Sensitivity: 0.8846153846153846\n",
      "Specificity: 0.9428571428571428\n",
      "Positive predictive value: 0.9583333333333334\n",
      "Negative predictive value: 0.8461538461538461\n"
     ]
    }
   ],
   "source": [
    "import random\n",
    "import class_eval\n",
    "from sklearn.neighbors import KNeighborsClassifier\n",
    "\n",
    "FPATH = '../data/house-votes-84.data'\n",
    "\n",
    "# Fix the random seed for predictability, if needed\n",
    "#random.seed(0)\n",
    "\n",
    "def get_data(fpath):\n",
    "    \"\"\"Opens file house-votes-84.data and returns a list with \n",
    "    labels (political affiliations) and a list with \n",
    "    feature vectors (voting decisions). Voting decisions \n",
    "    are represented with 1 for yes, 0 for no, and 0.5 for neither.\n",
    "    \"\"\"\n",
    "    relabel = {'y': 1, 'n': 0, '?': 0.5}\n",
    "    data = []\n",
    "    for line in open(fpath, 'r'):\n",
    "        strlst = line.strip().split(',')\n",
    "        toappend = [strlst[0]] + [relabel[i] for i in strlst[1:]]\n",
    "        data.append(toappend)\n",
    "    return data \n",
    "\n",
    "# Get the data\n",
    "data = get_data(FPATH)\n",
    "\n",
    "# Split it into training and testing sets and separate labels from feature vectors\n",
    "train, test = class_eval.split_training_testing(data, p_test=20)\n",
    "train_labels = [i[0] for i in train]\n",
    "train_features = [i[1:] for i in train]\n",
    "test_actual_labels = [i[0] for i in test]\n",
    "test_features = [i[1:] for i in test]\n",
    "\n",
    "# Make an instance of the KNN classifier and fit a model to the training data\n",
    "neigh = KNeighborsClassifier(n_neighbors=11)\n",
    "neigh.fit(train_features, train_labels) \n",
    "\n",
    "# Predict the labels for the test data and evaluate the performance\n",
    "test_pred_labels = neigh.predict(test_features)\n",
    "\n",
    "# The predict() method returns an object of type numpy.ndarray, so\n",
    "# we will transform it to list to fit the function specification\n",
    "class_eval.print_eval_metrics(list(test_pred_labels), test_actual_labels, 'democrat')\n",
    "\n",
    "# This routine is meant for testing purposes only.\n",
    "# In an actual analysis, we will look more systematically for a k \n",
    "# that maximizes the model's accuracy. We will then use multiple rounds \n",
    "# of random partitioning and average the model's performance over all rounds."
   ]
  }
 ],
 "metadata": {
  "kernelspec": {
   "display_name": "base",
   "language": "python",
   "name": "python3"
  },
  "language_info": {
   "codemirror_mode": {
    "name": "ipython",
    "version": 3
   },
   "file_extension": ".py",
   "mimetype": "text/x-python",
   "name": "python",
   "nbconvert_exporter": "python",
   "pygments_lexer": "ipython3",
   "version": "3.12.4"
  }
 },
 "nbformat": 4,
 "nbformat_minor": 2
}
