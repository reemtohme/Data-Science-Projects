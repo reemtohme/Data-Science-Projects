{
 "cells": [
  {
   "cell_type": "markdown",
   "metadata": {
    "slideshow": {
     "slide_type": "slide"
    }
   },
   "source": [
    "### Simulating contagion on a network\n",
    "\n",
    "In this project, I write a program that simulates the contagion of disease or information on an empirical network. In academic research, contagion models have been used to study the properties of different types of networks. In practice, contagion models are extremely valuable to predict the spread of contagious disease such as the flu or STDs.\n",
    "\n",
    "I will use the SI contagion model. The SI model assumes that once a susceptible individual is infected, there is no recovery. This is a good representation for the spread of non-curable but non-deadly infectious disease such as Herpes simplex or for the spread of new technologies and knowledge. \n",
    "\n",
    "In the SI model I will implement, we will start with a population where everyone is susceptible. Then I will randomly pick a small number of individuals (\"Patients 0\") and infect them. In the next period, all the contacts of the infected individuals will get infected (thus, we will assume that the probability of transmission is 1). And so on. I will repeat the process until everyone in the network is infected or until a certain number of periods have passed (the latter is necessary for networks that are not connected and have separate components; in such situations, it is possible that the contagion never reaches some individuals). \n",
    "\n",
    "I will run the model on a real network. For simplicity, I will reuse the co-authorship network I analyzed previously."
   ]
  },
  {
   "cell_type": "markdown",
   "metadata": {},
   "source": [
    "### Class for network"
   ]
  },
  {
   "cell_type": "code",
   "execution_count": 1,
   "metadata": {
    "collapsed": true
   },
   "outputs": [],
   "source": [
    "# For our network example, we know that the data file contains \n",
    "# both the i-j and the j-i edges so all the checks \n",
    "# in add_neighbors() are unnecessary. However, this may not be \n",
    "# the case in another dataset and the power of classes is that\n",
    "# they can cover many different situations and circumstances.\n",
    "\n",
    "class UndirectedNetwork(object):\n",
    "    \"\"\"A class used to represent a network.\"\"\"\n",
    "    \n",
    "    def __init__(self):\n",
    "        \"\"\"Create a new empty network.\"\"\"        \n",
    "        self.nodes = {}\n",
    "    \n",
    "    def add_node(self, node_id):\n",
    "        \"\"\"Take node_id and add it to the network if it is not there.\"\"\"\n",
    "        if node_id not in self.nodes:\n",
    "            self.nodes[node_id] = []\n",
    "    \n",
    "    def add_neighbors(self, ego_id, alter_id):\n",
    "        \"\"\"Take ego_id and alter_id and update ego_id's list of neighbors.\"\"\"\n",
    "        \n",
    "        # Make sure nodes are added to the network\n",
    "        self.add_node(ego_id)\n",
    "        self.add_node(alter_id)  \n",
    "        \n",
    "        # Add the neighbors if they are not duplicates        \n",
    "        if alter_id not in self.nodes[ego_id]:\n",
    "            self.nodes[ego_id].append(alter_id)\n",
    "        if ego_id not in self.nodes[alter_id]:\n",
    "            self.nodes[alter_id].append(ego_id)\n",
    "         \n",
    "    def get_node_ids(self):\n",
    "        \"\"\"Return the network node ids one at a time.\"\"\"        \n",
    "        for i in self.nodes:\n",
    "            yield i\n",
    "    \n",
    "    def get_node_neighbors(self, node_id):\n",
    "        \"\"\"Take node_id and return its neighbors one at a time.\"\"\"        \n",
    "        for i in self.nodes[node_id]:\n",
    "            yield i\n",
    "\n",
    "    def __str__(self):\n",
    "        \"\"\"Print the number of nodes in the network.\"\"\"        \n",
    "        return \"Undirected network with \" + str(len(self.nodes)) + \" nodes\"\n",
    "        "
   ]
  },
  {
   "cell_type": "markdown",
   "metadata": {},
   "source": [
    "### Instance of the network class"
   ]
  },
  {
   "cell_type": "code",
   "execution_count": 2,
   "metadata": {
    "scrolled": false
   },
   "outputs": [
    {
     "name": "stdout",
     "output_type": "stream",
     "text": [
      "Undirected network with 5241 nodes\n"
     ]
    }
   ],
   "source": [
    "net = UndirectedNetwork()\n",
    "\n",
    "for line in open('../data/ca-GrQc.txt', 'r'):\n",
    "    # Ignore the comment lines at the beginning of the file\n",
    "    if line[0] != '#':    \n",
    "        strlst = line.strip().split('\\t')\n",
    "        if strlst[0] != strlst[1]: # Remove self-loops\n",
    "            net.add_neighbors(int(strlst[0]), int(strlst[1]))\n",
    "\n",
    "print(net)"
   ]
  },
  {
   "cell_type": "markdown",
   "metadata": {},
   "source": [
    "\n",
    "### Class for SI model"
   ]
  },
  {
   "cell_type": "code",
   "execution_count": 3,
   "metadata": {
    "collapsed": true
   },
   "outputs": [],
   "source": [
    "# Typically, we should import modules before any code starts\n",
    "# but we will accept import here since it only comes up for\n",
    "# this problem and after\n",
    "import random as ran\n",
    "\n",
    "class SIModel(object):\n",
    "    \"\"\"A class used to simulate susceptible-infected contagion on a network.\"\"\"\n",
    "    \n",
    "    def __init__(self, net):\n",
    "        \"\"\"Assume net is an object of type UndirectedNetwork.\n",
    "        Create a new SI model using net.\n",
    "        \"\"\"        \n",
    "        self.network = net\n",
    "        self.susceptible_nodes = [i for i in net.get_node_ids()]\n",
    "        self.infected_nodes = []\n",
    "        self.num_infected = 0\n",
    "    \n",
    "    \n",
    "    def initialize(self, n):\n",
    "        \"\"\"Assume n is an integer.\n",
    "        Randomly select n nodes and infect them.\n",
    "        Print the number of infected nodes.\n",
    "        \"\"\"        \n",
    "        patients0 = ran.sample(self.susceptible_nodes, n)\n",
    "        self.infected_nodes.extend(patients0)\n",
    "        for i in patients0:\n",
    "            self.susceptible_nodes.remove(i)\n",
    "        self.num_infected = n\n",
    "        print(self)\n",
    "        \n",
    "        \n",
    "    def update(self):\n",
    "        \"\"\"Iterate over all susceptible nodes in random order and \n",
    "        infect those who have at least one infected neighbor.\n",
    "        Implement asynchronous updating.\n",
    "        Print the number of infected nodes.\n",
    "        \"\"\"        \n",
    "        # Remember not to iterate over a list you are changing\n",
    "        temp = self.susceptible_nodes[:]\n",
    "        ran.shuffle(temp)\n",
    "        for i in temp:\n",
    "            \n",
    "            # Get an iterator over i's neighbors\n",
    "            nbrs = self.network.get_node_neighbors(i)\n",
    "            \n",
    "            # Infect if at least one neighbor is infected\n",
    "            # Here, I am summing bools, where False = 0, True = 1\n",
    "            if sum([(j in self.infected_nodes) for j in nbrs]) > 0:\n",
    "                self.infected_nodes.append(i)\n",
    "                self.susceptible_nodes.remove(i)\n",
    "                self.num_infected += 1\n",
    "        print(self)\n",
    "        \n",
    "        \n",
    "    def run(self, num_iter=100):\n",
    "        \"\"\"Run update and print the number of infected nodes \n",
    "        until all nodes are infected or until update has been run 30 times.\n",
    "        \"\"\"        \n",
    "        p = 0\n",
    "        # While there are any susceptible nodes \n",
    "        # and for not more than num_iter iterations\n",
    "        while self.susceptible_nodes and p < num_iter:\n",
    "            self.update()\n",
    "            p +=1\n",
    "    \n",
    "    \n",
    "    def __str__(self):\n",
    "        \"\"\"Print the number of infected nodes.\"\"\"        \n",
    "        return str(self.num_infected)\n",
    "    "
   ]
  },
  {
   "cell_type": "markdown",
   "metadata": {},
   "source": [
    "\n",
    "### Running the model"
   ]
  },
  {
   "cell_type": "code",
   "execution_count": 4,
   "metadata": {
    "scrolled": false
   },
   "outputs": [
    {
     "name": "stdout",
     "output_type": "stream",
     "text": [
      "3\n",
      "416\n",
      "2616\n",
      "3818\n",
      "4118\n",
      "4157\n",
      "4158\n",
      "4158\n",
      "4158\n",
      "4158\n",
      "4158\n",
      "4158\n",
      "4158\n",
      "4158\n",
      "4158\n",
      "4158\n",
      "4158\n",
      "4158\n",
      "4158\n",
      "4158\n",
      "4158\n",
      "4158\n",
      "4158\n",
      "4158\n",
      "4158\n",
      "4158\n",
      "4158\n",
      "4158\n",
      "4158\n",
      "4158\n",
      "4158\n"
     ]
    }
   ],
   "source": [
    "# The output will vary because the similation is initialized \n",
    "# with a random process. For replication purposes, we will\n",
    "# fix the random seed.\n",
    "ran.seed(2)\n",
    "si = SIModel(net) \n",
    "si.initialize(3)\n",
    "si.run(num_iter=30)\n"
   ]
  }
 ],
 "metadata": {
  "kernelspec": {
   "display_name": "base",
   "language": "python",
   "name": "python3"
  },
  "language_info": {
   "codemirror_mode": {
    "name": "ipython",
    "version": 3
   },
   "file_extension": ".py",
   "mimetype": "text/x-python",
   "name": "python",
   "nbconvert_exporter": "python",
   "pygments_lexer": "ipython3",
   "version": "3.12.4"
  }
 },
 "nbformat": 4,
 "nbformat_minor": 2
}
